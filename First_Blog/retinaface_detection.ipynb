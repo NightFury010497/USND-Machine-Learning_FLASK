{
  "nbformat": 4,
  "nbformat_minor": 0,
  "metadata": {
    "kernelspec": {
      "display_name": "Python 3",
      "language": "python",
      "name": "python3"
    },
    "language_info": {
      "codemirror_mode": {
        "name": "ipython",
        "version": 3
      },
      "file_extension": ".py",
      "mimetype": "text/x-python",
      "name": "python",
      "nbconvert_exporter": "python",
      "pygments_lexer": "ipython3",
      "version": "3.6.8"
    },
    "colab": {
      "name": "retinaface_detection.ipynb",
      "provenance": [],
      "private_outputs": true,
      "collapsed_sections": []
    },
    "accelerator": "GPU"
  },
  "cells": [
    {
      "cell_type": "markdown",
      "metadata": {
        "id": "OH_iDjEGhkhd",
        "colab_type": "text"
      },
      "source": [
        "# **Importing Models!**"
      ]
    },
    {
      "cell_type": "code",
      "metadata": {
        "id": "qHc7m9QcuKyp",
        "colab_type": "code",
        "colab": {}
      },
      "source": [
        "!git clone https://github.com/NightFury010497/Udacity_Data_Scientist_NanoDegree\n",
        "!cd /content/Udacity_Data_Scientist_NanoDegree/First_Blog/"
      ],
      "execution_count": 0,
      "outputs": []
    },
    {
      "cell_type": "code",
      "metadata": {
        "id": "L9ZDmz9sbnQO",
        "colab_type": "code",
        "colab": {}
      },
      "source": [
        "!unzip /content/models.zip"
      ],
      "execution_count": 0,
      "outputs": []
    },
    {
      "cell_type": "code",
      "metadata": {
        "id": "HoUchX9dLXn-",
        "colab_type": "code",
        "colab": {}
      },
      "source": [
        "import os\n",
        "import cv2\n",
        "import time\n",
        "import torch\n",
        "import argparse\n",
        "import numpy as np\n",
        "import torch.backends.cudnn as cudnn\n",
        "from PIL import Image\n",
        "from models.retinaface.config import cfg\n",
        "from models.retinaface.prior_box import PriorBox\n",
        "from models.retinaface.py_cpu_nms import py_cpu_nms\n",
        "from models.retinaface.retinaface import RetinaFace\n",
        "from models.retinaface.box_utils import decode , decode_landm\n"
      ],
      "execution_count": 0,
      "outputs": []
    },
    {
      "cell_type": "code",
      "metadata": {
        "id": "NsLqyad3LXoJ",
        "colab_type": "code",
        "colab": {}
      },
      "source": [
        "device = torch.device('cuda' if torch.cuda.is_available() else 'cpu')"
      ],
      "execution_count": 0,
      "outputs": []
    },
    {
      "cell_type": "markdown",
      "metadata": {
        "id": "2djC-bNzu2Hy",
        "colab_type": "text"
      },
      "source": [
        "# Setting up the Paths!"
      ]
    },
    {
      "cell_type": "code",
      "metadata": {
        "id": "NFTqBykoLXom",
        "colab_type": "code",
        "colab": {}
      },
      "source": [
        "trained_model_path = \"/content/models/retinaface/weights/Final_Retinaface.pth\"\n",
        "cpu = True\n",
        "confidence_threshold = 0.05\n",
        "top_k = 5000\n",
        "nms_threshold = 0.3\n",
        "keep_top_k = 750\n",
        "save_image_path = \"/content/predictedimg\"\n",
        "vis_threshold = 0.6"
      ],
      "execution_count": 0,
      "outputs": []
    },
    {
      "cell_type": "code",
      "metadata": {
        "id": "WAPAQTT2LXor",
        "colab_type": "code",
        "colab": {}
      },
      "source": [
        "print(device)"
      ],
      "execution_count": 0,
      "outputs": []
    },
    {
      "cell_type": "markdown",
      "metadata": {
        "id": "o4PhuNIduwB6",
        "colab_type": "text"
      },
      "source": [
        "# Loading Model!"
      ]
    },
    {
      "cell_type": "code",
      "metadata": {
        "id": "7KWgy4PpLXoy",
        "colab_type": "code",
        "colab": {}
      },
      "source": [
        "### check_keys\n",
        "\n",
        "def check_keys(model, pretrained_state_dict):\n",
        "    '''In this function we will be checking keys of the pretrained model!'''\n",
        "    ckpt_keys = set(pretrained_state_dict.keys())\n",
        "    model_keys = set(model.state_dict().keys())\n",
        "    used_pretrained_keys = model_keys & ckpt_keys\n",
        "    unused_pretrained_keys = ckpt_keys - model_keys\n",
        "    missing_keys = model_keys - ckpt_keys\n",
        "    print('Missing keys:{}'.format(len(missing_keys)))\n",
        "    print('Unused checkpoint keys:{}'.format(len(unused_pretrained_keys)))\n",
        "    print('Used keys:{}'.format(len(used_pretrained_keys)))\n",
        "    assert len(used_pretrained_keys) > 0, 'load NONE from pretrained checkpoint'\n",
        "    return True\n",
        "\n",
        "### remove_prefix\n",
        "def remove_prefix(state_dict, prefix):\n",
        "    ''' Old style model is stored with all names of parameters sharing common prefix 'module.' '''\n",
        "    print('remove prefix \\'{}\\''.format(prefix))\n",
        "    f = lambda x: x.split(prefix, 1)[-1] if x.startswith(prefix) else x\n",
        "    return {f(key): value for key, value in state_dict.items()}\n",
        "\n",
        "\n",
        "### load_model\n",
        "def load_model(model, pretrained_path, load_to_cpu):\n",
        "    print('Loading pretrained model from {}'.format(pretrained_path))\n",
        "    if load_to_cpu:\n",
        "        pretrained_dict = torch.load(pretrained_path, map_location=lambda storage, loc: storage)\n",
        "    else:\n",
        "        device = torch.cuda.current_device()\n",
        "        pretrained_dict = torch.load(pretrained_path, map_location=lambda storage, loc: storage.cuda(device))\n",
        "    if \"state_dict\" in pretrained_dict.keys():\n",
        "        pretrained_dict = remove_prefix(pretrained_dict['state_dict'], 'module.')\n",
        "    else:\n",
        "        pretrained_dict = remove_prefix(pretrained_dict, 'module.')\n",
        "    check_keys(model, pretrained_dict)\n",
        "    model.load_state_dict(pretrained_dict, strict=False)\n",
        "    return model"
      ],
      "execution_count": 0,
      "outputs": []
    },
    {
      "cell_type": "code",
      "metadata": {
        "id": "N_ig8nmMLXo3",
        "colab_type": "code",
        "colab": {}
      },
      "source": [
        "torch.set_grad_enabled(False)\n",
        "\n",
        "#net and model\n",
        "net = RetinaFace(phase=\"test\")\n",
        "net = load_model(net , trained_model_path, cpu)\n",
        "net.eval()\n",
        "print(\"Finished loading model!\")\n",
        "cudnn.benchmark = True\n",
        "device = torch.device(\"cpu\" if cpu else \"cuda\")\n",
        "net = net.to(device)"
      ],
      "execution_count": 0,
      "outputs": []
    },
    {
      "cell_type": "code",
      "metadata": {
        "id": "OT0TxPCrLXo7",
        "colab_type": "code",
        "colab": {}
      },
      "source": [
        "resize = 1\n",
        "image_path = \"/content/20065352_263001610848524_1703808604290678784_n.jpg\"\n",
        "save_image = True"
      ],
      "execution_count": 0,
      "outputs": []
    },
    {
      "cell_type": "code",
      "metadata": {
        "id": "-c-bVxk0LXo_",
        "colab_type": "code",
        "colab": {}
      },
      "source": [
        "name = image_path.split('/')[-1].split('.')[-2]\n",
        "name"
      ],
      "execution_count": 0,
      "outputs": []
    },
    {
      "cell_type": "markdown",
      "metadata": {
        "id": "ocX3xtXMvjJw",
        "colab_type": "text"
      },
      "source": [
        "# Making Function to Recognize Faces through bounding boxes!\n"
      ]
    },
    {
      "cell_type": "code",
      "metadata": {
        "id": "jq0uweV7LXpK",
        "colab_type": "code",
        "colab": {}
      },
      "source": [
        "def recog(path):\n",
        "    ''' Creating a Function to Recognize!'''\n",
        "    image_path = path\n",
        "    \n",
        "    img_raw = cv2.imread(image_path, cv2.IMREAD_COLOR)\n",
        "\n",
        "    img = np.float32(img_raw)\n",
        "\n",
        "    im_height, im_width, _ = img.shape\n",
        "    scale = torch.Tensor([img.shape[1], img.shape[0], img.shape[1], img.shape[0]])\n",
        "    img -= (104, 117, 123)\n",
        "    img = img.transpose(2, 0, 1)\n",
        "    img = torch.from_numpy(img).unsqueeze(0)\n",
        "    img = img.to(device)\n",
        "    scale = scale.to(device)\n",
        "\n",
        "    tic = time.time()\n",
        "    loc, conf, landms = net(img)  # forward pass\n",
        "    print('net forward time: {:.4f}'.format(time.time() - tic))\n",
        "\n",
        "    priorbox = PriorBox(cfg, image_size=(im_height, im_width))\n",
        "    priors = priorbox.forward()\n",
        "    priors = priors.to(device)\n",
        "    prior_data = priors.data\n",
        "    boxes = decode(loc.data.squeeze(0), prior_data, cfg['variance'])\n",
        "    boxes = boxes * scale / resize\n",
        "    boxes = boxes.cpu().numpy()\n",
        "    scores = conf.squeeze(0).data.cpu().numpy()[:, 1]\n",
        "    landms = decode_landm(landms.data.squeeze(0), prior_data, cfg['variance'])\n",
        "    scale1 = torch.Tensor([img.shape[3], img.shape[2], img.shape[3], img.shape[2],\n",
        "                                   img.shape[3], img.shape[2], img.shape[3], img.shape[2],\n",
        "                                   img.shape[3], img.shape[2]])\n",
        "    scale1 = scale1.to(device)\n",
        "    landms = landms * scale1 / resize\n",
        "    landms = landms.cpu().numpy()\n",
        "\n",
        "    # ignore low scores\n",
        "    inds = np.where(scores > confidence_threshold)[0]\n",
        "    boxes = boxes[inds]\n",
        "    landms = landms[inds]\n",
        "    scores = scores[inds]\n",
        "\n",
        "    # keep top-K before NMS\n",
        "    order = scores.argsort()[::-1][:top_k]\n",
        "    boxes = boxes[order]\n",
        "    landms = landms[order]\n",
        "    scores = scores[order]\n",
        "\n",
        "    # do NMS\n",
        "    dets = np.hstack((boxes, scores[:, np.newaxis])).astype(np.float32, copy=False)\n",
        "    keep = py_cpu_nms(dets, nms_threshold)\n",
        "    # keep = nms(dets, args.nms_threshold,force_cpu=args.cpu)\n",
        "    dets = dets[keep, :]\n",
        "    landms = landms[keep]\n",
        "\n",
        "    # keep top-K faster NMS\n",
        "    dets = dets[:keep_top_k, :]\n",
        "    landms = landms[:keep_top_k, :]\n",
        "\n",
        "    dets = np.concatenate((dets, landms), axis=1)\n",
        "\n",
        "    # show image\n",
        "    if save_image:\n",
        "                for b in dets:\n",
        "                    if b[4] < vis_threshold:\n",
        "                        continue\n",
        "                    text = \"{:.4f}\".format(b[4])\n",
        "                    b = list(map(int, b))\n",
        "                    cv2.rectangle(img_raw, (b[0], b[1]), (b[2], b[3]), (0, 0, 255), 2)\n",
        "                    cx = b[0]\n",
        "                    cy = b[1] + 12\n",
        "                    cv2.putText(img_raw, text, (cx, cy),\n",
        "                                cv2.FONT_HERSHEY_DUPLEX, 0.5, (255, 255, 255))\n",
        "                    # df3.append(boxes)\n",
        "                    # df[0] = df[0].append(b[0])\n",
        "                    df2 = b[:4]\n",
        "\n",
        "                    # print(boxes)\n",
        "                    # print('+++++++++++++++++++++')\n",
        "                    # print(b)\n",
        "\n",
        "                    # landms\n",
        "                    #cv2.circle(img_raw, (b[5], b[6]), 4, (0, 0, 255), 4)\n",
        "                    #cv2.circle(img_raw, (b[7], b[8]), 4, (0, 255, 255), 4)\n",
        "                    #cv2.circle(img_raw, (b[9], b[10]), 4, (255, 0, 255), 4)\n",
        "                    #cv2.circle(img_raw, (b[11], b[12]), 4, (0, 255, 0), 4)\n",
        "                    #cv2.circle(img_raw, (b[13], b[14]), 4, (255, 0, 0), 4)\n",
        "                # save image\n",
        "                name = image_path.split('/')[-1].split('.')[-2]\n",
        "                cv2.imwrite(\"{}/{}.png\".format(save_image_path, name), img_raw)\n",
        "    im = Image.open(\"{}/{}.png\".format(save_image_path, name))\n",
        "    return im\n"
      ],
      "execution_count": 0,
      "outputs": []
    },
    {
      "cell_type": "markdown",
      "metadata": {
        "id": "qY5Xc_czvqX_",
        "colab_type": "text"
      },
      "source": [
        "# Testing Time!"
      ]
    },
    {
      "cell_type": "code",
      "metadata": {
        "id": "EzsxRjdrtN03",
        "colab_type": "code",
        "colab": {}
      },
      "source": [
        "recog(\"/content/20065352_263001610848524_1703808604290678784_n.jpg\")"
      ],
      "execution_count": 0,
      "outputs": []
    },
    {
      "cell_type": "code",
      "metadata": {
        "id": "uOrIJtTztOOE",
        "colab_type": "code",
        "colab": {}
      },
      "source": [
        "recog(\"/content/19985624_375648532837845_2728904469055012864_n.jpg\")"
      ],
      "execution_count": 0,
      "outputs": []
    },
    {
      "cell_type": "code",
      "metadata": {
        "id": "6CK_qgB5vRdU",
        "colab_type": "code",
        "colab": {}
      },
      "source": [
        "recog(\"/content/23594899_304976046684057_3095936779144921088_n.jpg\")"
      ],
      "execution_count": 0,
      "outputs": []
    },
    {
      "cell_type": "code",
      "metadata": {
        "id": "d_gNKJwCvW4Y",
        "colab_type": "code",
        "colab": {}
      },
      "source": [
        ""
      ],
      "execution_count": 0,
      "outputs": []
    }
  ]
}